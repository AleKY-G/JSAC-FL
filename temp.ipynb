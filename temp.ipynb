{
 "cells": [
  {
   "cell_type": "code",
   "execution_count": 62,
   "metadata": {},
   "outputs": [],
   "source": [
    "# from utils import solve_graph_weights, log2_comb, dig_sparse_level, MyNeighbour,comp_quant_encoding\n",
    "from scipy.linalg import hadamard\n",
    "from scipy.special import binom\n",
    "import numpy as np\n",
    "import matplotlib.pyplot as plt\n",
    "import networkx as net\n",
    "import pandas as pd\n",
    "import pickle\n",
    "import itertools\n",
    "from functools import partial\n",
    "from sklearn.linear_model import Lasso, OrthogonalMatchingPursuit\n",
    "import cvxpy as cvx\n",
    "import plotly.express as pltly"
   ]
  },
  {
   "cell_type": "code",
   "execution_count": 63,
   "metadata": {},
   "outputs": [],
   "source": [
    "np.set_printoptions(suppress = True)"
   ]
  },
  {
   "cell_type": "markdown",
   "metadata": {},
   "source": [
    "parameters for $\\mu-L$ convergence\n",
    "* $\\mu = \\lambda$       regularization parameter"
   ]
  },
  {
   "cell_type": "code",
   "execution_count": 622,
   "metadata": {},
   "outputs": [],
   "source": [
    "# train_images=train_images.reshape((60000,784),order='C')\n",
    "# SampleCov=[(train_images[sample_indices[i]].T @ train_images[sample_indices[i]]) / len(sample_indices[i]) for i in range(K)]\n",
    "# lambdaSampleCov=[np.linalg.eigvalsh(SampleCov[i]).reshape((784,1)) for i in range(K)]\n",
    "# E = 1./2*(np.eye(K) - np.ones((K,1)) @ np.ones((1,K)) / K)\n",
    "# lambdaE=np.linalg.eigvalsh(E).reshape((K,1))\n",
    "# lambda_base = [max(.5*lambdaSampleCov[i]).squeeze() for i in range(K)]\n",
    "lamda = .1\n",
    "# L = max(lambda_base) + lamda\n",
    "L = .3298 + lamda\n",
    "mu = lamda\n",
    "kappa = L / mu\n",
    "gb = .1 # as the norm bound G for gradient\n",
    "K = 20\n",
    "d = 7850\n",
    "N = 1e4\n",
    "M= 2\n",
    "m = N/(2*M) # N/(2*M), where 2M is the total number of scheduling slots for M-round 'star-like' commun.\n",
    "rho = 1e6 #average SNR ~40dB\n",
    "\n",
    "seeds = iter(range(1000))\n",
    "p = 0.2\n",
    "alg_connect = 0\n",
    "while alg_connect < 1e-4:\n",
    "#     ER = net.erdos_renyi_graph(K-1, .2, seed = next(seeds))\n",
    "#     ER.add_node(K-1)\n",
    "#     G = net.star_graph(reversed(range(K)))\n",
    "#     G.add_edges_from(ER.edges())\n",
    "    G = net.erdos_renyi_graph(K, p, seed = next(seeds))\n",
    "    pos = net.spring_layout(G)\n",
    "    LP = np.array(net.laplacian_matrix(G).todense())\n",
    "    D, _ = np.linalg.eigh(LP) # eigenvalues are assumed given in an ascending order\n",
    "    alg_connect = D[1] \n",
    "alpha = 2 / (D[K-1] + D[1])\n",
    "W = np.eye(K) - alpha * LP\n",
    "# pos = net.spring_layout(G)\n",
    "# net.draw(G, pos, with_labels = True, node_size = 500, edge_size = 300, font_size = 16)\n",
    "\n",
    "beta = np.linalg.norm(np.eye(K) - W, ord=2)\n",
    "delta = 1 - np.linalg.norm(np.ones((K,1)) @ np.ones((1,K)) / K - W, ord=2)\n",
    "omega = m/d\n",
    "zeta_ini = delta * omega / (16*delta + delta**2 + 4*beta**2 + 2*delta*beta**2 - 8*delta*omega)\n",
    "# b = 6/mu\n",
    "# a = 24 * kappa\n",
    "# c = 100\n",
    "if (delta**2/4 + 2/omega * beta**2)*zeta_ini - delta <=0:\n",
    "    a_prime = 40072.\n",
    "else:\n",
    "    a_prime = .99 * delta / ((delta**2/4 + 2/omega * beta**2)*zeta_ini - delta)\n",
    "        \n",
    "# eta = lambda t: b/(t+a)\n",
    "zeta = lambda t: zeta_ini /(t/a_prime+1)\n",
    "p = lambda t: -(delta**2 * zeta_ini**2/4 + 2*beta**2 * zeta_ini**2/omega)/((t/a_prime+1)**2) + delta*zeta_ini/(t/a_prime+1)\n",
    "# eta = lambda t: c*p(t)**(1.4)\n",
    "c = .999 * (delta * zeta_ini - (delta**2/4 + 2/omega * beta**2) * zeta_ini**2 / (1/a_prime + 1))\n",
    "D = 13 * np.sqrt(2) * gb / (mu * c * a_prime)\n",
    "eta = lambda t: D / (2*np.sqrt(2) * gb) * c / (t/a_prime+1)\n",
    "\n",
    "# a1, a3 = lambda t: 2/p(t), lambda t: 2/p(t)\n",
    "a2 = lambda t: delta*zeta(t) / 2\n",
    "a4 = omega/2"
   ]
  },
  {
   "cell_type": "code",
   "execution_count": 623,
   "metadata": {},
   "outputs": [],
   "source": [
    "# Set distances among any pair of nodes\n",
    "d_min = 50\n",
    "d_max = 200\n",
    "rho =  d_min + (d_max - d_min) * np.random.rand(K,1) \n",
    "theta = 2 * np.pi * np.random.rand(K,1)\n",
    "# D = np.ones((K, K))\n",
    "D = np.sqrt(rho ** 2 + rho.T ** 2 - 2 * (rho @ rho.T) * np.cos(theta - theta.T))\n",
    "for i in range(K):\n",
    "    if i:\n",
    "        D[i,i] = D[i,i-1]\n",
    "    else:\n",
    "        D[i,i] = D[i,i+1]\n",
    "        \n",
    "A0 = 10 ** (-3.35)\n",
    "d0 = 1\n",
    "gamma = 3.76\n",
    "PL = A0 * ((D / d0) ** (-gamma))\n",
    "# Generate per-iteration channels following Rayleigh fading\n",
    "CH_gen = iter( np.random.randn(len(G.edges()),)/np.sqrt(2) + 1j * np.random.randn(len(G.edges()),)/np.sqrt(2) )\n",
    "CH = np.ones((K, K), dtype=complex)  # Channel coefficients\n",
    "for i in range(K):\n",
    "    for j in G[i]:\n",
    "        if j < i:\n",
    "            CH[i, j] = next(CH_gen)\n",
    "for i in range(K):\n",
    "    for j in G[i]:\n",
    "        if j > i:\n",
    "            CH[i, j] = np.conjugate(CH[j, i])\n",
    "CG = PL * (np.abs(CH)) ** 2 "
   ]
  },
  {
   "cell_type": "code",
   "execution_count": 788,
   "metadata": {},
   "outputs": [],
   "source": [
    "# For an ER graph of connectivity probability of p = 0.20\n",
    "# losseses = pickle.load( open('../repo_jv/data/losseses_SCHEME_5_eta0_2.00_zeta0_0.0010_rho_a_prime_100_10-0.pkl', 'rb') )\n",
    "# losseses = np.array(losseses)\n",
    "# K = losseses.shape[2]\n",
    "# df1 = pd.DataFrame(losseses[0], columns = ['Device_{}'.format(i + 1) for i in range(K)] )\n",
    "losseses = pickle.load( open('../repo_jv/data/losseses_SCHEME_1_eta0_2.00_zeta0_1.00_10-0.pkl', 'rb') )\n",
    "losseses = np.array(losseses)\n",
    "df1 = pd.DataFrame(losseses[0], columns = ['Device_{}'.format(i + 1) for i in range(K)] )\n",
    "losseses = pickle.load( open('../repo_jv/data/losseses_SCHEME_3_eta0_2.00_zeta0_0.1000_10-0.pkl', 'rb') )\n",
    "losseses = np.array(losseses)\n",
    "df5 = pd.DataFrame(losseses[0], columns = ['Device_{}'.format(i + 1) for i in range(K)] )\n",
    "losseses = pickle.load( open('../repo_jv/data/losseses_SCHEME_4_eta0_2.00_zeta0_0.1000_10-0.pkl', 'rb') )\n",
    "losseses = np.array(losseses)\n",
    "df6 = pd.DataFrame(losseses[0], columns = ['Device_{}'.format(i + 1) for i in range(K)] )\n",
    "losseses = pickle.load( open('../repo_jv/data/losseses_SCHEME_5_eta0_1.00_zeta0_0.0100_rho_a_30.0_10-0.pkl', 'rb') )\n",
    "losseses = np.array(losseses)\n",
    "df3 = pd.DataFrame(losseses[0], columns = ['Device_{}'.format(i + 1) for i in range(K)] )\n",
    "losseses = pickle.load( open('../repo_jv/data/losseses_SCHEME_6_eta0_1.00_zeta0_0.0100_rho_a_30.0_10-0.pkl', 'rb') )\n",
    "losseses = np.array(losseses)\n",
    "df4 = pd.DataFrame(losseses[0], columns = ['Device_{}'.format(i + 1) for i in range(K)] )\n",
    "losseses = pickle.load( open('../repo_jv/data/losseses_local_eta0_2.00.pkl', 'rb') )\n",
    "losseses = np.array(losseses)\n",
    "df0 = pd.DataFrame(losseses[0], columns = ['Device_{}'.format(i + 1) for i in range(K)] )"
   ]
  },
  {
   "cell_type": "code",
   "execution_count": 802,
   "metadata": {},
   "outputs": [
    {
     "data": {
      "image/png": "[encoded data removed]",
      "text/plain": [
       "<Figure size 417.6x302.4 with 1 Axes>"
      ]
     },
     "metadata": {
      "needs_background": "light"
     },
     "output_type": "display_data"
    }
   ],
   "source": [
    "fig, ax = plt.subplots(figsize = (5.8,4.2))\n",
    "df1.rolling(window = 5).mean().mean(axis = 1).plot(style = '--', color = 'blueviolet')\n",
    "df5.rolling(window = 5).mean().mean(axis = 1).plot(color = 'darkcyan')\n",
    "df6.rolling(window = 5).mean().mean(axis = 1).plot(color = 'orange')\n",
    "df3.rolling(window = 5).mean().mean(axis = 1).plot(color = 'firebrick')\n",
    "df4.rolling(window = 5).mean().mean(axis = 1).plot(color = 'lightcoral')\n",
    "df0.rolling(window = 5).mean().mean(axis = 1).plot(color = 'tab:green')\n",
    "plt.xlabel(r'Number of communication blocks ($P_{\\rm tot} = 13$dBm, $N = 1000$)', fontsize = 14)\n",
    "plt.ylabel(r'$F(\\bar{\\theta}) + \\frac{\\mu}{2}\\|\\bar{\\theta}\\|^2$', fontsize = 14)\n",
    "# plt.title(r'$\\lambda_2(L) = 8$')\n",
    "plt.xlim((50, 2000))\n",
    "plt.ylim((0.4, 0.90))\n",
    "plt.grid()\n",
    "# plt.savefig('C:/Users/Helen/documents/visiting_research@KCL/D2D_DSGD/repo_jv/fig/comp_loss_vs_commun_small_N.pdf',format='pdf', dpi=600)"
   ]
  },
  {
   "cell_type": "code",
   "execution_count": 787,
   "metadata": {},
   "outputs": [
    {
     "data": {
      "text/plain": [
       "0.531892394721508"
      ]
     },
     "execution_count": 787,
     "metadata": {},
     "output_type": "execute_result"
    }
   ],
   "source": [
    "df4.rolling(window = 5).mean().mean(axis = 1).min()"
   ]
  },
  {
   "cell_type": "code",
   "execution_count": null,
   "metadata": {},
   "outputs": [],
   "source": []
  },
  {
   "cell_type": "code",
   "execution_count": 839,
   "metadata": {},
   "outputs": [],
   "source": [
    "# For an ER graph of connectivity probability of p = 0.10 generated based on a STAR\n",
    "# standard DSGD\n",
    "losseses = pickle.load( open('../repo_jv/data/losseses_SCHEME_1_eta0_2.00_zeta0_1.00_10-0.pkl', 'rb') )\n",
    "losseses = np.array(losseses)\n",
    "df1 = pd.DataFrame(losseses[0], columns = ['Device_{}'.format(i + 1) for i in range(K)] )\n",
    "# digital implementation of DSGD with the proposed scheduling\n",
    "losseses = pickle.load( open('../repo_jv/data/losseses_SCHEME_5_eta0_2.00_zeta0_0.0100_rho_a_10.0_star-based_p_0.10_med_N.pkl', 'rb') )\n",
    "losseses = np.array(losseses)\n",
    "df5 = pd.DataFrame(losseses[0], columns = ['Device_{}'.format(i + 1) for i in range(K)] )\n",
    "# digital implementation of DSGD with TDMA\n",
    "losseses = pickle.load( open('../repo_jv/data/losseses_SCHEME_3_eta0_2.00_zeta0_0.1000_star-based_p_0.10_med_N.pkl', 'rb') )\n",
    "losseses = np.array(losseses)\n",
    "df6 = pd.DataFrame(losseses[0], columns = ['Device_{}'.format(i + 1) for i in range(K)] )\n",
    "# analog implementation of DSGD with the sequential scheduling (obtain the smalliest #slots)\n",
    "losseses = pickle.load( open('../repo_jv/data/losseses_SCHEME_5_eta0_1.00_zeta0_0.0100_rho_a_1.0_star-based_p_0.10_med_N.pkl', 'rb') )\n",
    "losseses = np.array(losseses)\n",
    "df3 = pd.DataFrame(losseses[0], columns = ['Device_{}'.format(i + 1) for i in range(K)] )\n",
    "# analog implementation of DSGD with TDMA (obtain the largest #slots)\n",
    "# losseses = pickle.load( open('../repo_jv/data/losseses_SCHEME_6_eta0_1.00_zeta0_0.0100_rho_a_30.0_10-0.pkl', 'rb') )\n",
    "# losseses = np.array(losseses)\n",
    "# df4 = pd.DataFrame(losseses[0], columns = ['Device_{}'.format(i + 1) for i in range(K)] )\n",
    "# independent training w/o communications\n",
    "losseses = pickle.load( open('../repo_jv/data/losseses_local_eta0_2.00.pkl', 'rb') )\n",
    "losseses = np.array(losseses)\n",
    "df0 = pd.DataFrame(losseses[0], columns = ['Device_{}'.format(i + 1) for i in range(K)] )"
   ]
  },
  {
   "cell_type": "code",
   "execution_count": 840,
   "metadata": {},
   "outputs": [
    {
     "data": {
      "image/png": "[encoded data removed]",
      "text/plain": [
       "<Figure size 417.6x302.4 with 1 Axes>"
      ]
     },
     "metadata": {
      "needs_background": "light"
     },
     "output_type": "display_data"
    }
   ],
   "source": [
    "fig, ax = plt.subplots(figsize = (5.8,4.2))\n",
    "df1.rolling(window = 5).mean().mean(axis = 1).plot(style = '--', color = 'blueviolet')\n",
    "df5.rolling(window = 5).mean().mean(axis = 1).plot(color = 'darkcyan')\n",
    "df6.rolling(window = 5).mean().mean(axis = 1).plot(color = 'orange')\n",
    "df3.rolling(window = 5).mean().mean(axis = 1).plot(color = 'firebrick')\n",
    "df0.rolling(window = 5).mean().mean(axis = 1).plot(color = 'tab:green')\n",
    "\n",
    "plt.xlabel(r'Number of communication blocks ($P_{\\rm tot} = 13$dBm, $N = 5000$)', fontsize = 14)\n",
    "plt.ylabel(r'$F(\\bar{\\theta}) + \\frac{\\mu}{2}\\|\\bar{\\theta}\\|^2$', fontsize = 14)\n",
    "plt.xlim((50, 2000))\n",
    "plt.ylim((0.4, 0.90))\n",
    "plt.grid()\n",
    "# plt.savefig('C:/Users/Helen/documents/visiting_research@KCL/D2D_DSGD/repo_jv/fig/comp_loss_vs_commun_small_N.pdf',format='pdf', dpi=600)"
   ]
  },
  {
   "cell_type": "code",
   "execution_count": 836,
   "metadata": {},
   "outputs": [
    {
     "data": {
      "text/plain": [
       "0.5228439378738404"
      ]
     },
     "execution_count": 836,
     "metadata": {},
     "output_type": "execute_result"
    }
   ],
   "source": [
    "df6.rolling(window = 5).mean().mean(axis = 1).min()"
   ]
  },
  {
   "cell_type": "code",
   "execution_count": 832,
   "metadata": {},
   "outputs": [],
   "source": [
    "import sys"
   ]
  },
  {
   "cell_type": "code",
   "execution_count": 833,
   "metadata": {},
   "outputs": [
    {
     "data": {
      "text/plain": [
       "'win32'"
      ]
     },
     "execution_count": 833,
     "metadata": {},
     "output_type": "execute_result"
    }
   ],
   "source": [
    "sys.platform"
   ]
  },
  {
   "cell_type": "markdown",
   "metadata": {},
   "source": [
    "Generate a partial Hadamard matrix $H \\in \\{\\pm 1\\}^{m\\times d}$"
   ]
  },
  {
   "cell_type": "code",
   "execution_count": 53,
   "metadata": {},
   "outputs": [],
   "source": [
    "tilde_d = 2 ** 13\n",
    "H = hadamard(tilde_d)\n",
    "d = 7850\n",
    "m = int(d / 1)\n",
    "H_par = H[:m]"
   ]
  },
  {
   "cell_type": "code",
   "execution_count": 54,
   "metadata": {},
   "outputs": [],
   "source": [
    "theta = np.random.randn(d,)\n",
    "tilde_theta = np.concatenate((theta, np.zeros((2**13 - d,))), axis = 0)"
   ]
  },
  {
   "cell_type": "code",
   "execution_count": 55,
   "metadata": {},
   "outputs": [],
   "source": [
    "n, p, tilde_d = 1, .5, 2 ** 13\n",
    "r = np.random.binomial(n, p, (tilde_d,))\n",
    "r[r == 0] = -1\n",
    "temp = [H_par[i,:] * r for i in range(m)]\n",
    "A = (1 / np.sqrt(m)) * np.array(temp)\n",
    "est_theta = m/tilde_d * (A.T  @ (A @ tilde_theta))\n",
    "est_theta = est_theta[:d]"
   ]
  },
  {
   "cell_type": "code",
   "execution_count": 59,
   "metadata": {},
   "outputs": [
    {
     "data": {
      "text/plain": [
       "268.0075239637175"
      ]
     },
     "execution_count": 59,
     "metadata": {},
     "output_type": "execute_result"
    }
   ],
   "source": [
    "(np.linalg.norm(est_theta - theta))**2 "
   ]
  },
  {
   "cell_type": "code",
   "execution_count": 60,
   "metadata": {},
   "outputs": [
    {
     "data": {
      "text/plain": [
       "327.9351916516721"
      ]
     },
     "execution_count": 60,
     "metadata": {},
     "output_type": "execute_result"
    }
   ],
   "source": [
    "(1 - m / tilde_d) * np.linalg.norm(theta)**2"
   ]
  },
  {
   "cell_type": "code",
   "execution_count": 162,
   "metadata": {},
   "outputs": [],
   "source": [
    "g = net.Graph()"
   ]
  },
  {
   "cell_type": "code",
   "execution_count": 167,
   "metadata": {},
   "outputs": [
    {
     "data": {
      "text/plain": [
       "False"
      ]
     },
     "execution_count": 167,
     "metadata": {},
     "output_type": "execute_result"
    }
   ],
   "source": [
    "not G"
   ]
  },
  {
   "cell_type": "markdown",
   "metadata": {},
   "source": [
    "Sequential scheduling on the connectivity graph $\\mathcal{G}(\\mathcal{V}, \\mathcal{E})$"
   ]
  },
  {
   "cell_type": "code",
   "execution_count": 535,
   "metadata": {},
   "outputs": [],
   "source": [
    "def TwoSectionH(G): # Generate the 2-section of the proposed hypergraph, i.e., H2\n",
    "    # VertexH = G.nodes()\n",
    "    Hyperedge = [ tuple(sorted([node] + [n for n in G.neighbors(node)])) \n",
    "                                    for node in G.nodes() ] # construct a hypergraph each of whose hyperedge consists of a node and its neighbours\n",
    "    Hyperedge = list(set(Hyperedge)) # remove any repeated hyperedges\n",
    "    H2Edges = [[tuple(sorted(e)) for e in net.complete_graph(he).edges()] for he in Hyperedge] # a list of list of edges of H2\n",
    "    temp = [] # remove the inner list\n",
    "    for e in H2Edges:\n",
    "        temp.extend(e)\n",
    "    H2Edges = list(set(temp)) # remove any repeated edges\n",
    "\n",
    "    H2 = net.Graph()\n",
    "    H2.add_nodes_from(G.nodes())\n",
    "    H2.add_edges_from(H2Edges)\n",
    "    vertex_color_map = net.greedy_color(H2, strategy = 'saturation_largest_first') # vertex coloring H2\n",
    "    \n",
    "    return H2, vertex_color_map"
   ]
  },
  {
   "cell_type": "code",
   "execution_count": 536,
   "metadata": {},
   "outputs": [],
   "source": [
    "def seq_scheduling(G):\n",
    "    # A sequential list (slot's) of star toplogy-based schedule in a form of dicts \n",
    "    Rx_schedule_list = [] \n",
    "    # key-value pair herein is node (n_b, n_c), where n_b is the #times for which a node transmits as a star center (BC), \n",
    "    # and n_c is the #times for which a node transmits to a star center\n",
    "    Tx_times = {node:[0,0] for node in G.nodes()} \n",
    "\n",
    "    while G:\n",
    "        _, from_node_to_color_id = TwoSectionH(G)\n",
    "        color_degree = {c: sum( len(G[node]) for node, color in from_node_to_color_id.items() if color == c ) \n",
    "                             for c in from_node_to_color_id.values()}\n",
    "        chosen_color = list(color_degree.values()).index(max(color_degree.values())) # find arg_max(degree(color_list))\n",
    "\n",
    "        # A dict including (star center: associated nodes) pairs that transmits or recieves in parallel at the current slot\n",
    "        Rx_schedule_dict = { node:G[node] for node, color in from_node_to_color_id.items() if color == chosen_color}\n",
    "        # Append the scheule in the current slot to the sequential schedule list\n",
    "        Rx_schedule_list.append(Rx_schedule_dict)\n",
    "        # Update n_b for the star center\n",
    "        for node in Rx_schedule_dict.keys():\n",
    "            Tx_times[node][0] += 1\n",
    "        # Update n_c for the neighbors of the star centers\n",
    "        for neighbors in Rx_schedule_dict.values():\n",
    "            for node in neighbors:\n",
    "                Tx_times[node][1] += 1\n",
    "\n",
    "        # Update the graph\n",
    "        # Remove the scheduled Rxs, i.e., the star centers\n",
    "        G.remove_nodes_from(Rx_schedule_dict.keys())\n",
    "        # Remove any standalone nodes\n",
    "        current_node_list = list(G.nodes())\n",
    "        for node in current_node_list:\n",
    "            if not(G[node]):\n",
    "                G.remove_node(node)\n",
    "   \n",
    "    return Rx_schedule_list, Tx_times"
   ]
  },
  {
   "cell_type": "code",
   "execution_count": 542,
   "metadata": {},
   "outputs": [
    {
     "data": {
      "image/png": "[encoded data removed]",
      "text/plain": [
       "<Figure size 432x288 with 1 Axes>"
      ]
     },
     "metadata": {},
     "output_type": "display_data"
    }
   ],
   "source": [
    "K = 12\n",
    "seeds = iter(range(1000))\n",
    "p = 0.2\n",
    "#     ER = net.erdos_renyi_graph(K-1, .2, seed = next(seeds))\n",
    "#     ER.add_node(K-1)\n",
    "#     G = net.star_graph(reversed(range(K)))\n",
    "#     G.add_edges_from(ER.edges())\n",
    "G = net.erdos_renyi_graph(K, p, seed = next(seeds))\n",
    "\n",
    "color_list = ['red', 'skyblue', 'green', 'gold', 'm', 'magenta', 'darkorange', 'cyan','gray', 'pink', \n",
    "              'chocolate', 'turquoise', 'olive', 'blueviolet', 'lightgreen', 'brown', 'royalblue', 'limegreen', \n",
    "              'darkcyan', 'snow']\n",
    "H2, from_node_to_color_id = TwoSectionH(G)\n",
    "node_color_pairs = [ color_list[ from_node_to_color_id[node] ] for node in H2.nodes() ]\n",
    "net.draw(G, pos, with_labels = True, node_color = node_color_pairs, node_size = 500, font_size = 16)"
   ]
  },
  {
   "cell_type": "code",
   "execution_count": 558,
   "metadata": {},
   "outputs": [
    {
     "data": {
      "text/plain": [
       "[{11: AtlasView({10: {}, 9: {}, 8: {}, 7: {}, 6: {}, 5: {}, 4: {}, 3: {}, 2: {}, 1: {}, 0: {}})},\n",
       " {6: AtlasView({8: {}, 4: {}, 5: {}}), 2: AtlasView({9: {}})},\n",
       " {9: AtlasView({8: {}})}]"
      ]
     },
     "execution_count": 558,
     "metadata": {},
     "output_type": "execute_result"
    }
   ],
   "source": [
    "temp1 = G.copy()\n",
    "schedule_list, Tx_times = seq_scheduling(temp1)\n",
    "schedule_list"
   ]
  },
  {
   "cell_type": "code",
   "execution_count": 573,
   "metadata": {
    "scrolled": true
   },
   "outputs": [
    {
     "data": {
      "text/plain": [
       "{11: [1, 0],\n",
       " 10: [0, 1],\n",
       " 9: (1, 2),\n",
       " 8: [0, 3],\n",
       " 7: [0, 1],\n",
       " 6: [1, 1],\n",
       " 5: [0, 2],\n",
       " 4: [0, 2],\n",
       " 3: [0, 1],\n",
       " 2: [1, 1],\n",
       " 1: [0, 1],\n",
       " 0: [0, 1]}"
      ]
     },
     "execution_count": 573,
     "metadata": {},
     "output_type": "execute_result"
    }
   ],
   "source": [
    "Tx_times"
   ]
  },
  {
   "cell_type": "code",
   "execution_count": 572,
   "metadata": {},
   "outputs": [
    {
     "data": {
      "text/plain": [
       "12"
      ]
     },
     "execution_count": 572,
     "metadata": {},
     "output_type": "execute_result"
    }
   ],
   "source": [
    "len(Rx_times)"
   ]
  },
  {
   "cell_type": "code",
   "execution_count": 569,
   "metadata": {},
   "outputs": [],
   "source": [
    "Rx_times ={node:sum(Tx_times[node]) for node in G.nodes()}"
   ]
  },
  {
   "cell_type": "code",
   "execution_count": 592,
   "metadata": {},
   "outputs": [
    {
     "data": {
      "text/plain": [
       "False"
      ]
     },
     "execution_count": 592,
     "metadata": {},
     "output_type": "execute_result"
    }
   ],
   "source": [
    "bool(schedule_list[0].get(10))"
   ]
  },
  {
   "cell_type": "code",
   "execution_count": 544,
   "metadata": {},
   "outputs": [
    {
     "data": {
      "text/plain": [
       "{11: AtlasView({10: {}, 9: {}, 8: {}, 7: {}, 6: {}, 5: {}, 4: {}, 3: {}, 2: {}, 1: {}, 0: {}})}"
      ]
     },
     "execution_count": 544,
     "metadata": {},
     "output_type": "execute_result"
    }
   ],
   "source": [
    "temp2 = G.copy()\n",
    "color_degree = {c: sum( len(temp2[node]) for node, color in from_node_to_color_id.items() if color == c ) \n",
    "                     for c in from_node_to_color_id.values()}\n",
    "chosen_color = list(color_degree.values()).index(max(color_degree.values())) # find arg_max(degree(color_list))\n",
    "\n",
    "# A dict including (star center: associated nodes) pairs that transmits or recieves in parallel at the current slot\n",
    "Rx_schedule_dict = { node:temp2[node] for node, color in from_node_to_color_id.items() if color == chosen_color}\n",
    "Rx_schedule_dict"
   ]
  },
  {
   "cell_type": "code",
   "execution_count": 545,
   "metadata": {},
   "outputs": [
    {
     "data": {
      "text/plain": [
       "False"
      ]
     },
     "execution_count": 545,
     "metadata": {},
     "output_type": "execute_result"
    }
   ],
   "source": [
    "temp2.remove_nodes_from(Rx_schedule_dict.keys())\n",
    "# Remove any standalone nodes\n",
    "current_node_list = list(temp2.nodes())"
   ]
  },
  {
   "cell_type": "code",
   "execution_count": 548,
   "metadata": {},
   "outputs": [],
   "source": [
    "temp2.remove_nodes_from([0,1,3,7,10])"
   ]
  },
  {
   "cell_type": "code",
   "execution_count": 551,
   "metadata": {},
   "outputs": [
    {
     "data": {
      "image/png": "[encoded data removed]",
      "text/plain": [
       "<Figure size 432x288 with 1 Axes>"
      ]
     },
     "metadata": {},
     "output_type": "display_data"
    }
   ],
   "source": [
    "H2, from_node_to_color_id = TwoSectionH(temp2)\n",
    "node_color_pairs = [ color_list[ from_node_to_color_id[node] ] for node in H2.nodes() ]\n",
    "net.draw(temp2, pos, with_labels = True, node_color = node_color_pairs, node_size = 500, font_size = 16)"
   ]
  },
  {
   "cell_type": "code",
   "execution_count": 552,
   "metadata": {
    "scrolled": true
   },
   "outputs": [
    {
     "data": {
      "text/plain": [
       "1"
      ]
     },
     "execution_count": 552,
     "metadata": {},
     "output_type": "execute_result"
    }
   ],
   "source": [
    "color_degree = {c: sum( len(temp2[node]) for node, color in from_node_to_color_id.items() if color == c ) \n",
    "                             for c in from_node_to_color_id.values()}\n",
    "chosen_color = list(color_degree.values()).index(max(color_degree.values())) # find arg_max(degree(color_list))\n",
    "chosen_color"
   ]
  },
  {
   "cell_type": "code",
   "execution_count": 553,
   "metadata": {},
   "outputs": [],
   "source": [
    "Rx_schedule_dict = { node:G[node] for node, color in from_node_to_color_id.items() if color == chosen_color}"
   ]
  },
  {
   "cell_type": "code",
   "execution_count": 554,
   "metadata": {},
   "outputs": [
    {
     "data": {
      "text/plain": [
       "{6: AtlasView({11: {}, 4: {}, 5: {}, 8: {}}), 2: AtlasView({11: {}, 9: {}})}"
      ]
     },
     "execution_count": 554,
     "metadata": {},
     "output_type": "execute_result"
    }
   ],
   "source": [
    "Rx_schedule_dict"
   ]
  },
  {
   "cell_type": "code",
   "execution_count": 555,
   "metadata": {},
   "outputs": [],
   "source": [
    "temp2.remove_nodes_from(Rx_schedule_dict.keys())"
   ]
  },
  {
   "cell_type": "code",
   "execution_count": 556,
   "metadata": {},
   "outputs": [
    {
     "data": {
      "image/png": "[encoded data removed]",
      "text/plain": [
       "<Figure size 432x288 with 1 Axes>"
      ]
     },
     "metadata": {},
     "output_type": "display_data"
    }
   ],
   "source": [
    "H2, from_node_to_color_id = TwoSectionH(temp2)\n",
    "node_color_pairs = [ color_list[ from_node_to_color_id[node] ] for node in H2.nodes() ]\n",
    "net.draw(temp2, pos, with_labels = True, node_color = node_color_pairs, node_size = 500, font_size = 16)"
   ]
  },
  {
   "cell_type": "code",
   "execution_count": 828,
   "metadata": {},
   "outputs": [],
   "source": [
    "p = .1\n",
    "ER = net.erdos_renyi_graph(K-1, p, seed = next(seeds))\n",
    "Labels = net.relabel_nodes(ER, {node:node + 1 for node in ER.nodes()}, copy = False)\n",
    "ER.add_node(0)\n",
    "G = net.star_graph(K-1)\n",
    "G.add_edges_from(ER.edges())"
   ]
  },
  {
   "cell_type": "code",
   "execution_count": 829,
   "metadata": {},
   "outputs": [
    {
     "data": {
      "text/plain": [
       "NodeView((0, 1, 2, 3, 4, 5, 6, 7, 8, 9, 10, 11, 12, 13, 14, 15, 16, 17, 18, 19))"
      ]
     },
     "execution_count": 829,
     "metadata": {},
     "output_type": "execute_result"
    }
   ],
   "source": [
    "G.nodes()"
   ]
  },
  {
   "cell_type": "code",
   "execution_count": null,
   "metadata": {},
   "outputs": [],
   "source": []
  },
  {
   "cell_type": "code",
   "execution_count": null,
   "metadata": {},
   "outputs": [],
   "source": []
  },
  {
   "cell_type": "code",
   "execution_count": null,
   "metadata": {},
   "outputs": [],
   "source": []
  }
 ],
 "metadata": {
  "kernelspec": {
   "display_name": "Python 3.7.4 64-bit ('dsgd': conda)",
   "language": "python",
   "name": "python37464bitdsgdconda4cc13168382a4013a80db837e63c5b24"
  },
  "language_info": {
   "codemirror_mode": {
    "name": "ipython",
    "version": 3
   },
   "file_extension": ".py",
   "mimetype": "text/x-python",
   "name": "python",
   "nbconvert_exporter": "python",
   "pygments_lexer": "ipython3",
   "version": "3.7.4"
  }
 },
 "nbformat": 4,
 "nbformat_minor": 2
}
